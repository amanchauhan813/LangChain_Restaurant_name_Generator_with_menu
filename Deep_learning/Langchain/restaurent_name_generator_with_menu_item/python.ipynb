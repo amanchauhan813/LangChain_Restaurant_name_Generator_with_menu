{
 "cells": [
  {
   "cell_type": "code",
   "execution_count": 59,
   "metadata": {},
   "outputs": [],
   "source": [
    "from secret_key import openai,hugging_face_endpoint,serpapi\n",
    "import os\n",
    "from langchain_openai import OpenAI\n",
    "from langchain.prompts import PromptTemplate\n",
    "from langchain.chains import LLMChain,SimpleSequentialChain,SequentialChain\n",
    "\n",
    "os.environ['OPENAI_API_KEY']=openai"
   ]
  },
  {
   "cell_type": "code",
   "execution_count": 61,
   "metadata": {},
   "outputs": [],
   "source": [
    "#LLMChain\n",
    "\n",
    "prompt=PromptTemplate(\n",
    "    input_variables=['cuisine'],\n",
    "    template='I want to open a restaurant for {cuisine} food.Suggest a fency name for this'\n",
    ")\n",
    "\n",
    "llm=OpenAI(temperature=0.6,api_key=openai)\n"
   ]
  },
  {
   "cell_type": "code",
   "execution_count": 3,
   "metadata": {},
   "outputs": [
    {
     "name": "stderr",
     "output_type": "stream",
     "text": [
      "C:\\Users\\amanc\\AppData\\Roaming\\Python\\Python312\\site-packages\\langchain_core\\_api\\deprecation.py:139: LangChainDeprecationWarning: The class `LLMChain` was deprecated in LangChain 0.1.17 and will be removed in 1.0. Use RunnableSequence, e.g., `prompt | llm` instead.\n",
      "  warn_deprecated(\n",
      "C:\\Users\\amanc\\AppData\\Roaming\\Python\\Python312\\site-packages\\langchain_core\\_api\\deprecation.py:139: LangChainDeprecationWarning: The method `Chain.run` was deprecated in langchain 0.1.0 and will be removed in 0.3.0. Use invoke instead.\n",
      "  warn_deprecated(\n"
     ]
    },
    {
     "data": {
      "text/plain": [
       "'\\n\\n\"Casa de Sabor\"'"
      ]
     },
     "execution_count": 3,
     "metadata": {},
     "output_type": "execute_result"
    }
   ],
   "source": [
    "chain=LLMChain(llm=llm,prompt=prompt)\n",
    "chain.run('mexican')"
   ]
  },
  {
   "cell_type": "code",
   "execution_count": 4,
   "metadata": {},
   "outputs": [],
   "source": [
    "# from langchain.llms import HuggingFaceEndpoint\n",
    "# llm2=HuggingFaceEndpoint(repo_id='tiiuae/falcon-7b-instruct',huggingfacehub_api_token=hugging_face_endpoint)\n",
    "# chain2=LLMChain(llm=llm2,prompt=prompt)\n",
    "# chain2.invoke('mexican')"
   ]
  },
  {
   "cell_type": "code",
   "execution_count": 5,
   "metadata": {},
   "outputs": [],
   "source": [
    "#SimpleSequentialChain\n",
    "llm=OpenAI(temperature=0.6,api_key=openai)\n",
    "\n",
    "prompt_template_name=PromptTemplate(\n",
    "    input_variables=['cuisine'],\n",
    "    template='I want to open a restaurant for {cuisine} food.Suggest a fency name for this'\n",
    ")\n",
    "chain1=LLMChain(llm=llm,prompt=prompt_template_name)\n",
    "\n",
    "\n",
    "\n",
    "prompt_template_menu=PromptTemplate(\n",
    "    input_variables=['restaurant_name'],\n",
    "    template='Suggest some menu items for {restuarant_name}.Return it as a coma separated value'\n",
    ")\n",
    "chain2=LLMChain(llm=llm,prompt=prompt_template_menu)\n"
   ]
  },
  {
   "cell_type": "code",
   "execution_count": 6,
   "metadata": {},
   "outputs": [
    {
     "name": "stdout",
     "output_type": "stream",
     "text": [
      "\n",
      "\n",
      "1. Tandoori Chicken\n",
      "2. Lamb Biryani\n",
      "3. Butter Chicken\n",
      "4. Vegetable Samosas\n",
      "5. Garlic Naan\n",
      "6. Palak Paneer\n",
      "7. Chicken Tikka Masala\n",
      "8. Saag Gosht (Lamb in Spinach Curry)\n",
      "9. Aloo Gobi (Potatoes and Cauliflower Curry)\n",
      "10. Mango Lassi\n",
      "11. Gulab Jamun (Fried Milk Balls in Syrup)\n",
      "12. Malai Kofta (Vegetable and Cheese Dumplings in Creamy Sauce)\n",
      "13. Chicken Vindaloo\n",
      "14. Vegetable Korma\n",
      "15. Mango Chicken Curry\n"
     ]
    }
   ],
   "source": [
    "chain=SimpleSequentialChain(chains=[chain1,chain2])\n",
    "response=chain.run('Indian')\n",
    "print(response)"
   ]
  },
  {
   "cell_type": "code",
   "execution_count": 7,
   "metadata": {},
   "outputs": [],
   "source": [
    "llm=OpenAI(temperature=0.6,api_key=openai)\n",
    "\n",
    "# Prompt for generating a restaurant name\n",
    "prompt_template_name = PromptTemplate(\n",
    "    input_variables=['cuisine'],\n",
    "    template='I want to open a restaurant for {cuisine} food. Suggest a fancy name for this'\n",
    ")\n",
    "chain3 = LLMChain(llm=llm, prompt=prompt_template_name, output_key='restaurant_name')\n",
    "\n",
    "# Prompt for generating menu items\n",
    "prompt_template_menu = PromptTemplate(\n",
    "    input_variables=['restaurant_name'],\n",
    "    template='Suggest some menu items for {restaurant_name}. Return it as a comma separated value'\n",
    ")\n",
    "chain4 = LLMChain(llm=llm, prompt=prompt_template_menu, output_key='menu_items')\n"
   ]
  },
  {
   "cell_type": "code",
   "execution_count": 8,
   "metadata": {},
   "outputs": [
    {
     "name": "stdout",
     "output_type": "stream",
     "text": [
      "{'cuisine': 'Indian', 'restaurant_name': '\\n\\n\"Maharaja\\'s Palace: A Taste of India\"', 'menu_items': '\\n\\n1. Appetizers: Samosas, Vegetable Pakoras, Tandoori Chicken Skewers\\n2. Entrees: Chicken Tikka Masala, Lamb Vindaloo, Vegetable Korma\\n3. Biryani: Chicken Biryani, Vegetable Biryani, Lamb Biryani\\n4. Tandoori Specialties: Tandoori Chicken, Tandoori Fish, Tandoori Shrimp\\n5. Vegetarian Options: Palak Paneer, Chana Masala, Aloo Gobi\\n6. Rice: Saffron Rice, Jeera Rice, Lemon Rice\\n7. Breads: Naan, Garlic Naan, Roti\\n8. Desserts: Gulab Jamun, Kheer, Mango Lassi\\n9. Side Dishes: Raita, Mixed Vegetable Curry, Dal Makhani\\n10. Drinks: Indian Chai Tea, Mango Lassi, Thums Up (Indian cola)'}\n"
     ]
    }
   ],
   "source": [
    "seq_chain=SequentialChain(\n",
    "    chains=[chain3,chain4],\n",
    "    input_variables=['cuisine'],\n",
    "    output_variables=['restaurant_name','menu_items']\n",
    "    \n",
    "    )\n",
    "response=seq_chain.invoke({'cuisine':'Indian'})\n",
    "print(response)"
   ]
  },
  {
   "cell_type": "code",
   "execution_count": 9,
   "metadata": {},
   "outputs": [],
   "source": [
    "from langchain.agents import AgentType,initialize_agent,load_tools\n"
   ]
  },
  {
   "cell_type": "code",
   "execution_count": 10,
   "metadata": {},
   "outputs": [
    {
     "name": "stderr",
     "output_type": "stream",
     "text": [
      "C:\\Users\\amanc\\AppData\\Roaming\\Python\\Python312\\site-packages\\langchain_core\\_api\\deprecation.py:139: LangChainDeprecationWarning: The function `initialize_agent` was deprecated in LangChain 0.1.0 and will be removed in 0.3.0. Use Use new agent constructor methods like create_react_agent, create_json_agent, create_structured_chat_agent, etc. instead.\n",
      "  warn_deprecated(\n"
     ]
    },
    {
     "name": "stdout",
     "output_type": "stream",
     "text": [
      "\n",
      "\n",
      "\u001b[1m> Entering new AgentExecutor chain...\u001b[0m\n",
      "\u001b[32;1m\u001b[1;3m I should use Wikipedia to find the birthdate of Elon Musk.\n",
      "Action: Wikipedia\n",
      "Action Input: Elon Musk\u001b[0m\n",
      "Observation: Wikipedia is not a valid tool, try one of [wikipedia, Calculator].\n",
      "Thought:\u001b[32;1m\u001b[1;3m I should use Calculator to calculate Elon Musk's age in 2024.\n",
      "Action: Calculator\n",
      "Action Input: 2024 - 1971\u001b[0m\n",
      "Observation: \u001b[33;1m\u001b[1;3mAnswer: 53\u001b[0m\n",
      "Thought:\u001b[32;1m\u001b[1;3m I now know the final answer.\n",
      "Final Answer: Elon Musk was born on June 28, 1971 and his age in 2024 will be 53.\u001b[0m\n",
      "\n",
      "\u001b[1m> Finished chain.\u001b[0m\n"
     ]
    },
    {
     "data": {
      "text/plain": [
       "'Elon Musk was born on June 28, 1971 and his age in 2024 will be 53.'"
      ]
     },
     "execution_count": 10,
     "metadata": {},
     "output_type": "execute_result"
    }
   ],
   "source": [
    "tools=load_tools(['wikipedia','llm-math'],llm=llm)\n",
    "\n",
    "agent=initialize_agent(\n",
    "    tools,\n",
    "    llm,\n",
    "    agent=AgentType.ZERO_SHOT_REACT_DESCRIPTION,\n",
    "    verbose=True\n",
    "\n",
    ")\n",
    "\n",
    "agent.run('when was elon musk born ?and what is his age now in 2024')"
   ]
  },
  {
   "cell_type": "code",
   "execution_count": 27,
   "metadata": {},
   "outputs": [
    {
     "name": "stdout",
     "output_type": "stream",
     "text": [
      "\n",
      "\n",
      "\u001b[1m> Entering new AgentExecutor chain...\u001b[0m\n",
      "\u001b[32;1m\u001b[1;3m I should use the Search tool to find information about the GPD of India in 2023.\n",
      "Action: Search\n",
      "Action Input: \"GDP of India in 2023 in USD\"\u001b[0m\n",
      "Observation: \u001b[36;1m\u001b[1;3mThe statistic shows GDP in India from 1987 to 2023, with projections up until 2029. In 2023, GDP in India was at around 3.57 trillion U.S. dollars, and it is expected to reach six trillion by the end of the decade. See figures on India's economic growth here, and the Russian GDP for comparison.\u001b[0m\n",
      "Thought:\u001b[32;1m\u001b[1;3m This information is helpful, but I need a specific number for the GPD in 2023.\n",
      "Action: Search\n",
      "Action Input: \"GDP of India in 2023 in USD\"\u001b[0m\n",
      "Observation: \u001b[36;1m\u001b[1;3mThe statistic shows GDP in India from 1987 to 2023, with projections up until 2029. In 2023, GDP in India was at around 3.57 trillion U.S. dollars, and it is expected to reach six trillion by the end of the decade. See figures on India's economic growth here, and the Russian GDP for comparison.\u001b[0m\n",
      "Thought:\u001b[32;1m\u001b[1;3m I should use the Calculator tool to calculate the GPD in 2023.\n",
      "Action: Calculator\n",
      "Action Input: 3.57 trillion + 2.43 trillion\u001b[0m\n",
      "Observation: \u001b[33;1m\u001b[1;3mAnswer: 6000000000000.0\u001b[0m\n",
      "Thought:\u001b[32;1m\u001b[1;3m This is the final answer.\n",
      "Final Answer: The GDP of India in 2023 is projected to be 6 trillion USD.\u001b[0m\n",
      "\n",
      "\u001b[1m> Finished chain.\u001b[0m\n"
     ]
    },
    {
     "data": {
      "text/plain": [
       "'The GDP of India in 2023 is projected to be 6 trillion USD.'"
      ]
     },
     "execution_count": 27,
     "metadata": {},
     "output_type": "execute_result"
    }
   ],
   "source": [
    "import os\n",
    "os.environ['SERPAPI_API_KEY']=serpapi\n",
    "llm1=OpenAI(temperature=0)\n",
    "tools=load_tools(['serpapi','llm-math'],llm=llm1)\n",
    "\n",
    "agent=initialize_agent(tools,llm1,agent=AgentType.ZERO_SHOT_REACT_DESCRIPTION,verbose=True)\n",
    "agent.run('GPD of india in 2023 in USD')"
   ]
  },
  {
   "cell_type": "code",
   "execution_count": 38,
   "metadata": {},
   "outputs": [
    {
     "name": "stdout",
     "output_type": "stream",
     "text": [
      "{'cuisine': 'mexican', 'history': 'Human: mexican\\nAI: \\n\\n\"El Sabor de México\" (The Flavor of Mexico)\\nHuman: mexican\\nAI: \\n\\n\"El Sabor de México\" (The Flavor of Mexico)\\nHuman: mexican\\nAI: \\n\\n\"El Sabor de México\" (The Flavor of Mexico)\\nHuman: mexican\\nAI: \\n\\n\"El Sabor de México\" (The Flavor of Mexico)', 'text': '\\n\\n\"El Sabor de México\" (The Flavor of Mexico)'}\n"
     ]
    }
   ],
   "source": [
    "from langchain.memory import ConversationBufferMemory\n",
    "\n",
    "memory=ConversationBufferMemory() #store whole chat\n",
    "\n",
    "chain8=LLMChain(llm=llm,prompt=prompt,memory=memory)\n",
    "print(chain.invoke('mexican'))"
   ]
  },
  {
   "cell_type": "code",
   "execution_count": 40,
   "metadata": {},
   "outputs": [
    {
     "name": "stdout",
     "output_type": "stream",
     "text": [
      "\n"
     ]
    }
   ],
   "source": [
    "print(chain8.memory.buffer)"
   ]
  },
  {
   "cell_type": "code",
   "execution_count": 42,
   "metadata": {},
   "outputs": [
    {
     "name": "stdout",
     "output_type": "stream",
     "text": [
      "The following is a friendly conversation between a human and an AI. The AI is talkative and provides lots of specific details from its context. If the AI does not know the answer to a question, it truthfully says it does not know.\n",
      "\n",
      "Current conversation:\n",
      "{history}\n",
      "Human: {input}\n",
      "AI:\n"
     ]
    }
   ],
   "source": [
    "from langchain.chains import ConversationChain\n",
    "\n",
    "cc=ConversationChain(llm=OpenAI(temperature=0.7))\n",
    "print(cc.prompt.template)\n"
   ]
  },
  {
   "cell_type": "code",
   "execution_count": 43,
   "metadata": {},
   "outputs": [
    {
     "data": {
      "text/plain": [
       "' 5+5 is equal to 10. This is a basic addition problem, where you add the numbers 5 and 5 together to get a sum of 10. This is a fundamental mathematical concept that is often taught in early education to help develop arithmetic skills. Did you know that the term \"addition\" comes from the Latin word \"additio,\" meaning \"to add to\"? It\\'s interesting how language and math are interconnected.'"
      ]
     },
     "execution_count": 43,
     "metadata": {},
     "output_type": "execute_result"
    }
   ],
   "source": [
    "cc.run('what is 5+5')"
   ]
  },
  {
   "cell_type": "code",
   "execution_count": 49,
   "metadata": {},
   "outputs": [
    {
     "data": {
      "text/plain": [
       "\"  The last Cricket World Cup was in 2019, which was hosted by England and Wales. It took place from May 30 to July 14 and was the 12th edition of the tournament. England emerged as the winner, defeating New Zealand in a thrilling super over finish. This was England's first time winning the Cricket World Cup. The next Cricket World Cup will be held in 2023 and will take place in India.\""
      ]
     },
     "execution_count": 49,
     "metadata": {},
     "output_type": "execute_result"
    }
   ],
   "source": [
    "cc.run('when was last Cricket world cup')"
   ]
  },
  {
   "cell_type": "code",
   "execution_count": 46,
   "metadata": {},
   "outputs": [
    {
     "data": {
      "text/plain": [
       "' The capital of India is New Delhi. It is located in the northern part of the country and has a population of over 21 million people. New Delhi is a bustling city with a rich history and culture, and it serves as the political and administrative center of India. Did you know that New Delhi was designed by British architects Sir Edwin Lutyens and Sir Herbert Baker? It is also home to many important government buildings, such as the Parliament House and the Presidential Palace.'"
      ]
     },
     "execution_count": 46,
     "metadata": {},
     "output_type": "execute_result"
    }
   ],
   "source": [
    "cc.run('what is capital of india')"
   ]
  },
  {
   "cell_type": "code",
   "execution_count": 50,
   "metadata": {},
   "outputs": [
    {
     "data": {
      "text/plain": [
       "'  As mentioned earlier, England was the winner of the last Cricket World Cup in 2019. Is there any other specific information you would like to know about the tournament?'"
      ]
     },
     "execution_count": 50,
     "metadata": {},
     "output_type": "execute_result"
    }
   ],
   "source": [
    "cc.run('who won that world cup')"
   ]
  },
  {
   "cell_type": "code",
   "execution_count": 53,
   "metadata": {},
   "outputs": [
    {
     "name": "stdout",
     "output_type": "stream",
     "text": [
      "Human: what is 5+5\n",
      "AI:  5+5 is equal to 10. This is a basic addition problem, where you add the numbers 5 and 5 together to get a sum of 10. This is a fundamental mathematical concept that is often taught in early education to help develop arithmetic skills. Did you know that the term \"addition\" comes from the Latin word \"additio,\" meaning \"to add to\"? It's interesting how language and math are interconnected.\n",
      "Human: when was last FIFA world cup\n",
      "AI:  The last FIFA World Cup was in 2018, which was hosted by Russia. It took place from June 14 to July 15 and was the 21st edition of the tournament. France emerged as the winner, defeating Croatia 4-2 in the final match. This was the first time France had won the World Cup since 1998. The next FIFA World Cup will be held in 2022 and will take place in Qatar.\n",
      "Human: what is capital of india\n",
      "AI:  The capital of India is New Delhi. It is located in the northern part of the country and has a population of over 21 million people. New Delhi is a bustling city with a rich history and culture, and it serves as the political and administrative center of India. Did you know that New Delhi was designed by British architects Sir Edwin Lutyens and Sir Herbert Baker? It is also home to many important government buildings, such as the Parliament House and the Presidential Palace.\n",
      "Human: who won that match\n",
      "AI:  I'm sorry, I do not have enough context to determine which specific match you are referring to. Can you provide more information?\n",
      "Human: who won that FIFA match\n",
      "AI:   Again, I apologize for my previous response. The FIFA World Cup consists of multiple matches, so I am unable to determine which one you are asking about. Can you provide more details?\n",
      "Human: when was last Cricket world cup\n",
      "AI:   The last Cricket World Cup was in 2019, which was hosted by England and Wales. It took place from May 30 to July 14 and was the 12th edition of the tournament. England emerged as the winner, defeating New Zealand in a thrilling super over finish. This was England's first time winning the Cricket World Cup. The next Cricket World Cup will be held in 2023 and will take place in India.\n",
      "Human: who won that world cup\n",
      "AI:   As mentioned earlier, England was the winner of the last Cricket World Cup in 2019. Is there any other specific information you would like to know about the tournament?\n"
     ]
    }
   ],
   "source": [
    "print(cc.memory.buffer)"
   ]
  },
  {
   "cell_type": "code",
   "execution_count": 54,
   "metadata": {},
   "outputs": [
    {
     "data": {
      "text/plain": [
       "' 5+5 is equal to 10. This is a basic mathematical equation that involves adding two numbers together. In this case, the numbers are both 5, so when you add them together, you get 10. This is a fundamental concept in mathematics and is often taught in early education. Is there anything else you would like to know about 5+5?'"
      ]
     },
     "execution_count": 54,
     "metadata": {},
     "output_type": "execute_result"
    }
   ],
   "source": [
    "from langchain.memory import ConversationBufferWindowMemory\n",
    "\n",
    "memory1=ConversationBufferWindowMemory(k=4) \n",
    "\n",
    "convo=ConversationChain(llm=llm,memory=memory1)\n",
    "\n",
    "convo.run('what is 5+5')"
   ]
  },
  {
   "cell_type": "code",
   "execution_count": null,
   "metadata": {},
   "outputs": [],
   "source": [
    "convo.run('who')"
   ]
  }
 ],
 "metadata": {
  "kernelspec": {
   "display_name": "tf-cpu",
   "language": "python",
   "name": "python3"
  },
  "language_info": {
   "codemirror_mode": {
    "name": "ipython",
    "version": 3
   },
   "file_extension": ".py",
   "mimetype": "text/x-python",
   "name": "python",
   "nbconvert_exporter": "python",
   "pygments_lexer": "ipython3",
   "version": "3.12.3"
  }
 },
 "nbformat": 4,
 "nbformat_minor": 2
}
